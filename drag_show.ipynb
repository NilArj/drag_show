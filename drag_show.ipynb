{
 "cells": [
  {
   "cell_type": "markdown",
   "metadata": {},
   "source": [
    "# Machine Learning Analysis for Performance Prediction in 'La Más Draga'\n",
    "\n",
    "<a id=\"table_of_contents\"></a>\n",
    "\n",
    "### Table of contents\n",
    "\n",
    "<ol>\n",
    "  <li><a href=\"#overview\">Situation Overview</a>\n",
    "  <ul>\n",
    "   <li><a href='#dataset'>Examine the overall dataset\n",
    "    </a></li>\n",
    "    <li><a href='#cleaning'>Execute cleaning procedures\n",
    "    </a></li>\n",
    "    \n",
    "  </ul>\n",
    "  </li>\n",
    "  \n",
    "  <li><a href=\"#eda\">Exploratory analysis</a>\n",
    "  <ul>\n",
    "    <li><a href='#unique_values'>Begin by computing distinct values\n",
    "    </a></li>\n",
    "    <li><a href='#apps_by_category'>Find out the number of apps by category\n",
    "    </a></li>\n",
    "    </ul>\n",
    "  </li>  \n",
    "  \n",
    "  <li><a href=\"#analysis\">Data analysis</a>\n",
    "  <ul>\n",
    "    <li><a href='#free_paid_apps'>Comparing ratings, reviews and installs between free and paid apps\n",
    "    </a></li>\n",
    "    </ul>\n",
    "  </li>  \n",
    "  <li><a href=\"#insights\">Insights</a>\n",
    "</ol>"
   ]
  },
  {
   "cell_type": "markdown",
   "metadata": {},
   "source": [
    "<a id=\"overview\"></a>\n",
    "## Situation Overview\n",
    "Utilizing machine learning to predict my favorite contestant performance during \"La Más Draga\", which is competition similar to Ru Paul's Drag Race.\n",
    "\n",
    "1. From our data, what are the significant factors contributing to competition results?\n",
    "2. Who are the competing participants in the same category as my favorite participant??\n",
    "3. Does my favorite participant have a good chance of winning the competition?\n",
    "\n",
    "<a href=\"#table_of_contents\">Navigate to contents</a>"
   ]
  },
  {
   "cell_type": "markdown",
   "metadata": {},
   "source": [
    "<a id=\"dataset\"></a>\n",
    "Examine the overall dataset\n",
    "<br>\n",
    "<a href=\"#table_of_contents\">Navigate to contents</a>"
   ]
  },
  {
   "cell_type": "code",
   "execution_count": 2,
   "metadata": {},
   "outputs": [],
   "source": [
    "#import python libraries\n",
    "import pandas as pd\n",
    "import mysql.connector\n",
    "import seaborn as sns\n",
    "import matplotlib.pyplot as plt\n",
    "%matplotlib inline"
   ]
  },
  {
   "cell_type": "code",
   "execution_count": 3,
   "metadata": {},
   "outputs": [],
   "source": [
    "#connect to mysql database\n",
    "conn = mysql.connector.connect(\n",
    "    host=\"localhost\",\n",
    "    user=\"root\",\n",
    "    password=\"NilArj_21\",\n",
    "    database=\"project\",\n",
    ")"
   ]
  },
  {
   "cell_type": "code",
   "execution_count": 17,
   "metadata": {},
   "outputs": [
    {
     "name": "stderr",
     "output_type": "stream",
     "text": [
      "C:\\Users\\nilvi\\AppData\\Local\\Temp\\ipykernel_1444\\344945470.py:2: UserWarning: pandas only supports SQLAlchemy connectable (engine/connection) or database string URI or sqlite3 DBAPI2 connection. Other DBAPI2 objects are not tested. Please consider using SQLAlchemy.\n",
      "  df_table_1 = pd.read_sql(\"SELECT * FROM la_mas_draga;\", conn)\n"
     ]
    },
    {
     "name": "stdout",
     "output_type": "stream",
     "text": [
      "  Lugar         Participante              Nombre Lugar de residencia  Edad  \\\n",
      "0     1  Deborah \"La Grande\"       Ramses Molina    Ciudad de México    35   \n",
      "1     2      Bárbara Durango    Ricardo Martínez    Ciudad de México    40   \n",
      "2     3            Eva Blunt  Pablo Levy Morales    Ciudad de México    36   \n",
      "3     4        Margaret Y Ya    Margaret Peltier    Ciudad de México    29   \n",
      "4     5         Lana Boswell  Alan de Jesús Cruz    Ciudad de México    30   \n",
      "\n",
      "   Retos ganados     Resultado  Temporada Selección  \n",
      "0              0  Ganadora[7]​          1      None  \n",
      "1              1    Finalistas          1      None  \n",
      "2              1    Finalistas          1      None  \n",
      "3              2    Finalistas          1      None  \n",
      "4              0  3ª eliminada          1      None  \n"
     ]
    }
   ],
   "source": [
    "# participants table\n",
    "df_table_1 = pd.read_sql(\"SELECT * FROM la_mas_draga;\", conn)\n",
    "\n",
    "print(df_table_1.head())"
   ]
  },
  {
   "cell_type": "code",
   "execution_count": 18,
   "metadata": {},
   "outputs": [
    {
     "name": "stdout",
     "output_type": "stream",
     "text": [
      "<class 'pandas.core.frame.DataFrame'>\n",
      "RangeIndex: 70 entries, 0 to 69\n",
      "Data columns (total 9 columns):\n",
      " #   Column               Non-Null Count  Dtype \n",
      "---  ------               --------------  ----- \n",
      " 0   Lugar                70 non-null     object\n",
      " 1   Participante         70 non-null     object\n",
      " 2   Nombre               70 non-null     object\n",
      " 3   Lugar de residencia  70 non-null     object\n",
      " 4   Edad                 70 non-null     int64 \n",
      " 5   Retos ganados        70 non-null     int64 \n",
      " 6   Resultado            59 non-null     object\n",
      " 7   Temporada            70 non-null     int64 \n",
      " 8   Selección            63 non-null     object\n",
      "dtypes: int64(3), object(6)\n",
      "memory usage: 5.0+ KB\n"
     ]
    }
   ],
   "source": [
    "df_table_1.info()"
   ]
  },
  {
   "cell_type": "code",
   "execution_count": 20,
   "metadata": {},
   "outputs": [
    {
     "name": "stdout",
     "output_type": "stream",
     "text": [
      "       Concursante  Episodio Nombre_de_episodio Progreso\n",
      "0  Bárbara Durango         1               Diva     BAJA\n",
      "1  Bárbara Durango         1               Diva     BAJA\n",
      "2  Bárbara Durango         1               Diva     BAJA\n",
      "3  Bárbara Durango         1               Diva     BAJA\n",
      "4  Bárbara Durango         1               Diva     BAJA\n"
     ]
    },
    {
     "name": "stderr",
     "output_type": "stream",
     "text": [
      "C:\\Users\\nilvi\\AppData\\Local\\Temp\\ipykernel_1444\\2850977069.py:2: UserWarning: pandas only supports SQLAlchemy connectable (engine/connection) or database string URI or sqlite3 DBAPI2 connection. Other DBAPI2 objects are not tested. Please consider using SQLAlchemy.\n",
      "  df_table_2 = pd.read_sql(\"SELECT * FROM la_mas_draga_progress;\", conn)\n"
     ]
    }
   ],
   "source": [
    "# progress table\n",
    "df_table_2 = pd.read_sql(\"SELECT * FROM la_mas_draga_progress;\", conn)\n",
    "\n",
    "print(df_table_2.head())"
   ]
  },
  {
   "cell_type": "code",
   "execution_count": 21,
   "metadata": {},
   "outputs": [
    {
     "name": "stdout",
     "output_type": "stream",
     "text": [
      "<class 'pandas.core.frame.DataFrame'>\n",
      "RangeIndex: 294 entries, 0 to 293\n",
      "Data columns (total 4 columns):\n",
      " #   Column              Non-Null Count  Dtype \n",
      "---  ------              --------------  ----- \n",
      " 0   Concursante         294 non-null    object\n",
      " 1   Episodio            294 non-null    int64 \n",
      " 2   Nombre_de_episodio  294 non-null    object\n",
      " 3   Progreso            264 non-null    object\n",
      "dtypes: int64(1), object(3)\n",
      "memory usage: 9.3+ KB\n"
     ]
    }
   ],
   "source": [
    "df_table_2.info()"
   ]
  },
  {
   "cell_type": "markdown",
   "metadata": {},
   "source": [
    "<a id=\"cleaning\"></a>\n",
    "Execute cleaning procedures\n",
    "<br>\n",
    "<a href=\"#table_of_contents\">Navigate to contents</a>"
   ]
  },
  {
   "cell_type": "code",
   "execution_count": 22,
   "metadata": {},
   "outputs": [
    {
     "name": "stdout",
     "output_type": "stream",
     "text": [
      "   Lugar         Participante          Nombre    Lugar de residencia  Edad  \\\n",
      "51     8      Aisha Dollkills  Andrey Miranda   San José, Costa Rica    21   \n",
      "52     9           Light King     Juan Correa         Cali, Colombia    26   \n",
      "53    10            Huma Kyle     Tony Porras       Chihuahua, Chih.    29   \n",
      "54    11  Isabella y Catalina   Alex y Carlos  San Diego, California    25   \n",
      "55    12           Deseos Fab  Alexis Vázquez       Ciudad de México    24   \n",
      "\n",
      "    Retos ganados     Resultado  Temporada      Selección  \n",
      "51              0  4ª Eliminada          5     Audiciones  \n",
      "52              0      Abandona          5    Secretísima  \n",
      "53              0  3ª Eliminada          5     Audiciones  \n",
      "54              0  2ª Eliminada          5   Secretísimas  \n",
      "55              0  1ª Eliminada          5  La más Votada  \n"
     ]
    }
   ],
   "source": [
    "#create the data set \n",
    "df_contestants = df_table_1.loc[df_table_1[\"Temporada\"]<6]\n",
    "print(df_contestants.tail())"
   ]
  },
  {
   "cell_type": "code",
   "execution_count": 24,
   "metadata": {},
   "outputs": [
    {
     "name": "stdout",
     "output_type": "stream",
     "text": [
      "<class 'pandas.core.frame.DataFrame'>\n",
      "Int64Index: 56 entries, 0 to 55\n",
      "Data columns (total 9 columns):\n",
      " #   Column               Non-Null Count  Dtype \n",
      "---  ------               --------------  ----- \n",
      " 0   Lugar                56 non-null     int32 \n",
      " 1   Participante         56 non-null     object\n",
      " 2   Nombre               56 non-null     object\n",
      " 3   Lugar de residencia  56 non-null     object\n",
      " 4   Edad                 56 non-null     int64 \n",
      " 5   Retos ganados        56 non-null     int64 \n",
      " 6   Resultado            56 non-null     object\n",
      " 7   Temporada            56 non-null     int64 \n",
      " 8   Selección            49 non-null     object\n",
      "dtypes: int32(1), int64(3), object(5)\n",
      "memory usage: 4.2+ KB\n"
     ]
    },
    {
     "name": "stderr",
     "output_type": "stream",
     "text": [
      "C:\\Users\\nilvi\\AppData\\Local\\Temp\\ipykernel_1444\\3492027785.py:1: SettingWithCopyWarning: \n",
      "A value is trying to be set on a copy of a slice from a DataFrame.\n",
      "Try using .loc[row_indexer,col_indexer] = value instead\n",
      "\n",
      "See the caveats in the documentation: https://pandas.pydata.org/pandas-docs/stable/user_guide/indexing.html#returning-a-view-versus-a-copy\n",
      "  df_contestants[\"Lugar\"] = df_contestants[\"Lugar\"].astype(int)\n",
      "C:\\Users\\nilvi\\AppData\\Local\\Temp\\ipykernel_1444\\3492027785.py:2: SettingWithCopyWarning: \n",
      "A value is trying to be set on a copy of a slice from a DataFrame.\n",
      "Try using .loc[row_indexer,col_indexer] = value instead\n",
      "\n",
      "See the caveats in the documentation: https://pandas.pydata.org/pandas-docs/stable/user_guide/indexing.html#returning-a-view-versus-a-copy\n",
      "  df_contestants[\"Lugar de residencia\"] = df_contestants[\"Lugar de residencia\"].astype(str)\n",
      "C:\\Users\\nilvi\\AppData\\Local\\Temp\\ipykernel_1444\\3492027785.py:3: SettingWithCopyWarning: \n",
      "A value is trying to be set on a copy of a slice from a DataFrame.\n",
      "Try using .loc[row_indexer,col_indexer] = value instead\n",
      "\n",
      "See the caveats in the documentation: https://pandas.pydata.org/pandas-docs/stable/user_guide/indexing.html#returning-a-view-versus-a-copy\n",
      "  df_contestants[\"Resultado\"] = df_contestants[\"Resultado\"].astype(str)\n"
     ]
    }
   ],
   "source": [
    "#change data type\n",
    "df_contestants[\"Lugar\"] = df_contestants[\"Lugar\"].astype(int)\n",
    "df_contestants[\"Lugar de residencia\"] = df_contestants[\"Lugar de residencia\"].astype(str)\n",
    "df_contestants[\"Resultado\"] = df_contestants[\"Resultado\"].astype(str)\n",
    "df_contestants.info()"
   ]
  },
  {
   "cell_type": "code",
   "execution_count": 28,
   "metadata": {},
   "outputs": [
    {
     "name": "stdout",
     "output_type": "stream",
     "text": [
      "<class 'pandas.core.frame.DataFrame'>\n",
      "Int64Index: 56 entries, 0 to 55\n",
      "Data columns (total 10 columns):\n",
      " #   Column               Non-Null Count  Dtype \n",
      "---  ------               --------------  ----- \n",
      " 0   Lugar                56 non-null     int32 \n",
      " 1   Participante         56 non-null     object\n",
      " 2   Nombre               56 non-null     object\n",
      " 3   Lugar de residencia  56 non-null     object\n",
      " 4   Edad                 56 non-null     int64 \n",
      " 5   Retos ganados        56 non-null     int64 \n",
      " 6   Resultado            56 non-null     object\n",
      " 7   Temporada            56 non-null     int64 \n",
      " 8   Selección            56 non-null     object\n",
      " 9   Seleccion            56 non-null     object\n",
      "dtypes: int32(1), int64(3), object(6)\n",
      "memory usage: 4.6+ KB\n"
     ]
    },
    {
     "name": "stderr",
     "output_type": "stream",
     "text": [
      "C:\\Users\\nilvi\\AppData\\Local\\Temp\\ipykernel_1444\\2254347516.py:1: SettingWithCopyWarning: \n",
      "A value is trying to be set on a copy of a slice from a DataFrame.\n",
      "Try using .loc[row_indexer,col_indexer] = value instead\n",
      "\n",
      "See the caveats in the documentation: https://pandas.pydata.org/pandas-docs/stable/user_guide/indexing.html#returning-a-view-versus-a-copy\n",
      "  df_contestants[\"Selección\"] = df_contestants[\"Selección\"].fillna(\"Audiciones\")\n"
     ]
    }
   ],
   "source": [
    "#fill null values\n",
    "df_contestants[\"Selección\"] = df_contestants[\"Selección\"].fillna(\"Audiciones\")\n",
    "df_contestants.info()"
   ]
  }
 ],
 "metadata": {
  "kernelspec": {
   "display_name": "base",
   "language": "python",
   "name": "python3"
  },
  "language_info": {
   "codemirror_mode": {
    "name": "ipython",
    "version": 3
   },
   "file_extension": ".py",
   "mimetype": "text/x-python",
   "name": "python",
   "nbconvert_exporter": "python",
   "pygments_lexer": "ipython3",
   "version": "3.10.9"
  },
  "orig_nbformat": 4
 },
 "nbformat": 4,
 "nbformat_minor": 2
}
