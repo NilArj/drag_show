{
 "cells": [
  {
   "cell_type": "markdown",
   "metadata": {},
   "source": [
    "# Machine Learning Analysis for Performance Prediction in 'La Más Draga'\n",
    "\n",
    "<a id=\"table_of_contents\"></a>\n",
    "\n",
    "### Table of contents\n",
    "\n",
    "<ol>\n",
    "  <li><a href=\"#overview\">Situation Overview</a>\n",
    "  <ul>\n",
    "   <li><a href='#dataset'>Examine the overall dataset\n",
    "    </a></li>\n",
    "    <li><a href='#cleaning'>Execute cleaning procedures\n",
    "    </a></li>\n",
    "    \n",
    "  </ul>\n",
    "  </li>\n",
    "  \n",
    "  <li><a href=\"#eda\">Exploratory analysis</a>\n",
    "  <ul>\n",
    "    <li><a href='#unique_values'>Begin by computing distinct values\n",
    "    </a></li>\n",
    "    <li><a href='#statistics'>Find out the statistics\n",
    "    </a></li>\n",
    "    </ul>\n",
    "  </li>  \n",
    "  \n",
    "  <li><a href=\"#analysis\">Data analysis</a>\n",
    "  <ul>\n",
    "    <li><a href='#free_paid_apps'>Comparing ratings, reviews and installs between free and paid apps\n",
    "    </a></li>\n",
    "    </ul>\n",
    "  </li>  \n",
    "  <li><a href=\"#insights\">Insights</a>\n",
    "</ol>"
   ]
  },
  {
   "cell_type": "markdown",
   "metadata": {},
   "source": [
    "<a id=\"overview\"></a>\n",
    "## Situation Overview\n",
    "Utilizing machine learning to predict my favorite contestant performance during \"La Más Draga\", which is competition similar to Ru Paul's Drag Race.\n",
    "\n",
    "1. From our data, what are the significant factors contributing to competition results?\n",
    "2. Who are the competing participants in the same category as my favorite participant??\n",
    "3. Does my favorite participant have a good chance of winning the competition?\n",
    "\n",
    "<a href=\"#table_of_contents\">Navigate to contents</a>"
   ]
  },
  {
   "cell_type": "markdown",
   "metadata": {},
   "source": [
    "<a id=\"dataset\"></a>\n",
    "Examine the overall dataset\n",
    "<br>\n",
    "<a href=\"#table_of_contents\">Navigate to contents</a>"
   ]
  },
  {
   "cell_type": "code",
   "execution_count": 1,
   "metadata": {},
   "outputs": [],
   "source": [
    "#import python libraries\n",
    "import pandas as pd\n",
    "import mysql.connector\n",
    "import seaborn as sns\n",
    "import matplotlib.pyplot as plt\n",
    "%matplotlib inline"
   ]
  },
  {
   "cell_type": "code",
   "execution_count": 2,
   "metadata": {},
   "outputs": [],
   "source": [
    "#connect to mysql database\n",
    "conn = mysql.connector.connect(\n",
    "    host=\"localhost\",\n",
    "    user=\"root\",\n",
    "    password=\"NilArj_21\",\n",
    "    database=\"project\",\n",
    ")"
   ]
  },
  {
   "cell_type": "code",
   "execution_count": 3,
   "metadata": {},
   "outputs": [
    {
     "name": "stdout",
     "output_type": "stream",
     "text": [
      "  Lugar    Participante                       Nombre    Lugar de residencia  \\\n",
      "0     1      Alexis 3XL                 Itzel Moreno  Matamoros, Tamaulipas   \n",
      "1     2  Sophia Jiménez            Guillermo Jiménez      Guadalajara, Jal.   \n",
      "2     3        Gvajardo               Pablo Guajardo         Monterrey, NL.   \n",
      "3     4        Job Star  José Job Carrisalez Sánchez        Saltillo, Coah.   \n",
      "4     5      Soro Nasty                    Luis Soro        Monterrey, N.L.   \n",
      "\n",
      "   Edad       Selección  Retos ganados     Resultado  Temporada  \n",
      "0    28  Audiciones MTY              2      Ganadora          2  \n",
      "1    31  Audiciones GDL              3    Finalistas          2  \n",
      "2    29     Secretísima              1    Finalistas          2  \n",
      "3    34  Audiciones MTY              0  6ª eliminada          2  \n",
      "4    33    Pase directo              0  5ª eliminada          2  \n"
     ]
    },
    {
     "name": "stderr",
     "output_type": "stream",
     "text": [
      "C:\\Users\\nilvi\\AppData\\Local\\Temp\\ipykernel_10160\\344945470.py:2: UserWarning: pandas only supports SQLAlchemy connectable (engine/connection) or database string URI or sqlite3 DBAPI2 connection. Other DBAPI2 objects are not tested. Please consider using SQLAlchemy.\n",
      "  df_table_1 = pd.read_sql(\"SELECT * FROM la_mas_draga;\", conn)\n"
     ]
    }
   ],
   "source": [
    "# participants table\n",
    "df_table_1 = pd.read_sql(\"SELECT * FROM la_mas_draga;\", conn)\n",
    "\n",
    "print(df_table_1.head())"
   ]
  },
  {
   "cell_type": "code",
   "execution_count": 4,
   "metadata": {},
   "outputs": [
    {
     "name": "stdout",
     "output_type": "stream",
     "text": [
      "<class 'pandas.core.frame.DataFrame'>\n",
      "RangeIndex: 49 entries, 0 to 48\n",
      "Data columns (total 9 columns):\n",
      " #   Column               Non-Null Count  Dtype \n",
      "---  ------               --------------  ----- \n",
      " 0   Lugar                49 non-null     object\n",
      " 1   Participante         49 non-null     object\n",
      " 2   Nombre               49 non-null     object\n",
      " 3   Lugar de residencia  49 non-null     object\n",
      " 4   Edad                 49 non-null     int64 \n",
      " 5   Selección            49 non-null     object\n",
      " 6   Retos ganados        49 non-null     int64 \n",
      " 7   Resultado            49 non-null     object\n",
      " 8   Temporada            49 non-null     int64 \n",
      "dtypes: int64(3), object(6)\n",
      "memory usage: 3.6+ KB\n"
     ]
    }
   ],
   "source": [
    "df_table_1.info()"
   ]
  },
  {
   "cell_type": "code",
   "execution_count": 5,
   "metadata": {},
   "outputs": [
    {
     "name": "stdout",
     "output_type": "stream",
     "text": [
      "       Concursante  Episodio Nombre_de_episodio Progreso\n",
      "0  Aisha Dollkills         1          Artesanal    MENOS\n",
      "1  Aisha Dollkills         2            Juguete     SALV\n",
      "2  Aisha Dollkills         3            A Color     ELIM\n",
      "3  Aisha Dollkills         4          Recursiva     None\n",
      "4  Aisha Dollkills         5             Famosa     None\n"
     ]
    },
    {
     "name": "stderr",
     "output_type": "stream",
     "text": [
      "C:\\Users\\nilvi\\AppData\\Local\\Temp\\ipykernel_10160\\2850977069.py:2: UserWarning: pandas only supports SQLAlchemy connectable (engine/connection) or database string URI or sqlite3 DBAPI2 connection. Other DBAPI2 objects are not tested. Please consider using SQLAlchemy.\n",
      "  df_table_2 = pd.read_sql(\"SELECT * FROM la_mas_draga_progress;\", conn)\n"
     ]
    }
   ],
   "source": [
    "# progress table\n",
    "df_table_2 = pd.read_sql(\"SELECT * FROM la_mas_draga_progress;\", conn)\n",
    "\n",
    "print(df_table_2.head())"
   ]
  },
  {
   "cell_type": "code",
   "execution_count": 6,
   "metadata": {},
   "outputs": [
    {
     "name": "stdout",
     "output_type": "stream",
     "text": [
      "<class 'pandas.core.frame.DataFrame'>\n",
      "RangeIndex: 548 entries, 0 to 547\n",
      "Data columns (total 4 columns):\n",
      " #   Column              Non-Null Count  Dtype \n",
      "---  ------              --------------  ----- \n",
      " 0   Concursante         548 non-null    object\n",
      " 1   Episodio            548 non-null    int64 \n",
      " 2   Nombre_de_episodio  548 non-null    object\n",
      " 3   Progreso            444 non-null    object\n",
      "dtypes: int64(1), object(3)\n",
      "memory usage: 17.2+ KB\n"
     ]
    }
   ],
   "source": [
    "df_table_2.info()"
   ]
  },
  {
   "cell_type": "markdown",
   "metadata": {},
   "source": [
    "<a id=\"cleaning\"></a>\n",
    "Execute cleaning procedures\n",
    "<br>\n",
    "<a href=\"#table_of_contents\">Navigate to contents</a>"
   ]
  },
  {
   "cell_type": "code",
   "execution_count": 7,
   "metadata": {},
   "outputs": [],
   "source": [
    "df_table_2 = df_table_2.rename(columns = {\"Concursante\" : \"Participante\"})"
   ]
  },
  {
   "cell_type": "code",
   "execution_count": 8,
   "metadata": {},
   "outputs": [
    {
     "data": {
      "text/html": [
       "<div>\n",
       "<style scoped>\n",
       "    .dataframe tbody tr th:only-of-type {\n",
       "        vertical-align: middle;\n",
       "    }\n",
       "\n",
       "    .dataframe tbody tr th {\n",
       "        vertical-align: top;\n",
       "    }\n",
       "\n",
       "    .dataframe thead th {\n",
       "        text-align: right;\n",
       "    }\n",
       "</style>\n",
       "<table border=\"1\" class=\"dataframe\">\n",
       "  <thead>\n",
       "    <tr style=\"text-align: right;\">\n",
       "      <th></th>\n",
       "      <th>Participante</th>\n",
       "      <th>Episodio</th>\n",
       "      <th>Nombre_de_episodio</th>\n",
       "      <th>Progreso</th>\n",
       "    </tr>\n",
       "  </thead>\n",
       "  <tbody>\n",
       "    <tr>\n",
       "      <th>0</th>\n",
       "      <td>Aisha Dollkills</td>\n",
       "      <td>1</td>\n",
       "      <td>Artesanal</td>\n",
       "      <td>MENOS</td>\n",
       "    </tr>\n",
       "    <tr>\n",
       "      <th>1</th>\n",
       "      <td>Aisha Dollkills</td>\n",
       "      <td>2</td>\n",
       "      <td>Juguete</td>\n",
       "      <td>SALV</td>\n",
       "    </tr>\n",
       "    <tr>\n",
       "      <th>2</th>\n",
       "      <td>Aisha Dollkills</td>\n",
       "      <td>3</td>\n",
       "      <td>A Color</td>\n",
       "      <td>ELIM</td>\n",
       "    </tr>\n",
       "    <tr>\n",
       "      <th>3</th>\n",
       "      <td>Aisha Dollkills</td>\n",
       "      <td>4</td>\n",
       "      <td>Recursiva</td>\n",
       "      <td>None</td>\n",
       "    </tr>\n",
       "    <tr>\n",
       "      <th>4</th>\n",
       "      <td>Aisha Dollkills</td>\n",
       "      <td>5</td>\n",
       "      <td>Famosa</td>\n",
       "      <td>None</td>\n",
       "    </tr>\n",
       "  </tbody>\n",
       "</table>\n",
       "</div>"
      ],
      "text/plain": [
       "      Participante  Episodio Nombre_de_episodio Progreso\n",
       "0  Aisha Dollkills         1          Artesanal    MENOS\n",
       "1  Aisha Dollkills         2            Juguete     SALV\n",
       "2  Aisha Dollkills         3            A Color     ELIM\n",
       "3  Aisha Dollkills         4          Recursiva     None\n",
       "4  Aisha Dollkills         5             Famosa     None"
      ]
     },
     "execution_count": 8,
     "metadata": {},
     "output_type": "execute_result"
    }
   ],
   "source": [
    "df_table_2.head()"
   ]
  },
  {
   "cell_type": "code",
   "execution_count": 9,
   "metadata": {},
   "outputs": [],
   "source": [
    "df_table_1[\"Lugar\"] = df_table_1[\"Lugar\"].astype(int)"
   ]
  },
  {
   "cell_type": "code",
   "execution_count": 10,
   "metadata": {},
   "outputs": [
    {
     "name": "stdout",
     "output_type": "stream",
     "text": [
      "<class 'pandas.core.frame.DataFrame'>\n",
      "RangeIndex: 49 entries, 0 to 48\n",
      "Data columns (total 9 columns):\n",
      " #   Column               Non-Null Count  Dtype \n",
      "---  ------               --------------  ----- \n",
      " 0   Lugar                49 non-null     int32 \n",
      " 1   Participante         49 non-null     object\n",
      " 2   Nombre               49 non-null     object\n",
      " 3   Lugar de residencia  49 non-null     object\n",
      " 4   Edad                 49 non-null     int64 \n",
      " 5   Selección            49 non-null     object\n",
      " 6   Retos ganados        49 non-null     int64 \n",
      " 7   Resultado            49 non-null     object\n",
      " 8   Temporada            49 non-null     int64 \n",
      "dtypes: int32(1), int64(3), object(5)\n",
      "memory usage: 3.4+ KB\n"
     ]
    }
   ],
   "source": [
    "df_table_1.info()"
   ]
  },
  {
   "cell_type": "markdown",
   "metadata": {},
   "source": [
    "## Exploratory analysis"
   ]
  },
  {
   "cell_type": "markdown",
   "metadata": {},
   "source": [
    "<a id=\"unique_values\"></a>\n",
    "Begin by computing distinct values\n",
    "<br>\n",
    "<a href=\"#table_of_contents\">Navigate to contents</a>"
   ]
  },
  {
   "cell_type": "code",
   "execution_count": 81,
   "metadata": {},
   "outputs": [
    {
     "data": {
      "text/plain": [
       "Text(0, 0.5, 'Number of participants')"
      ]
     },
     "execution_count": 81,
     "metadata": {},
     "output_type": "execute_result"
    },
    {
     "data": {
      "image/png": "[encoded data removed]",
      "text/plain": [
       "<Figure size 640x480 with 1 Axes>"
      ]
     },
     "metadata": {},
     "output_type": "display_data"
    }
   ],
   "source": [
    "participants_home = df_contestants.groupby('Lugar de residencia').size()\n",
    "\n",
    "participants_home.plot(kind=\"bar\", color=\"blue\")\n",
    "plt.xlabel(\"Home\")\n",
    "plt.ylabel(\"Number of participants\")"
   ]
  },
  {
   "cell_type": "code",
   "execution_count": 74,
   "metadata": {},
   "outputs": [
    {
     "name": "stdout",
     "output_type": "stream",
     "text": [
      "['Audiciones' 'Audiciones MTY' 'Audiciones GDL' 'Secretísima'\n",
      " 'Pase directo' 'Secretisima' 'Audiciones MÉR' 'Secretisimo'\n",
      " 'Audiciones CDMX' 'Audiciones CD.JRZ' 'Secreta de secretas'\n",
      " 'La más Votada' 'Secreta de las secretas' 'Ganadora de Audiciones'\n",
      " 'Secretísimo' 'La Más Votada' 'Secretísimas']\n"
     ]
    }
   ],
   "source": [
    "print(df_contestants[\"Selección\"].unique())"
   ]
  },
  {
   "cell_type": "markdown",
   "metadata": {},
   "source": [
    "<a id=\"statistics\"></a>\n",
    "Find out the statistics\n",
    "<br>\n",
    "<a href=\"#table_of_contents\">Navigate to contents</a>"
   ]
  },
  {
   "cell_type": "code",
   "execution_count": 51,
   "metadata": {},
   "outputs": [
    {
     "name": "stdout",
     "output_type": "stream",
     "text": [
      "count    56.000000\n",
      "mean     30.125000\n",
      "std       5.298585\n",
      "min      20.000000\n",
      "25%      26.000000\n",
      "50%      30.000000\n",
      "75%      33.000000\n",
      "max      47.000000\n",
      "Name: Edad, dtype: float64\n"
     ]
    }
   ],
   "source": [
    "print(df_contestants[\"Edad\"].describe())"
   ]
  },
  {
   "cell_type": "code",
   "execution_count": 52,
   "metadata": {},
   "outputs": [
    {
     "name": "stdout",
     "output_type": "stream",
     "text": [
      "count    56.000000\n",
      "mean      0.803571\n",
      "std       0.902917\n",
      "min       0.000000\n",
      "25%       0.000000\n",
      "50%       1.000000\n",
      "75%       1.000000\n",
      "max       3.000000\n",
      "Name: Retos ganados, dtype: float64\n"
     ]
    }
   ],
   "source": [
    "print(df_contestants[\"Retos ganados\"].describe())"
   ]
  }
 ],
 "metadata": {
  "kernelspec": {
   "display_name": "base",
   "language": "python",
   "name": "python3"
  },
  "language_info": {
   "codemirror_mode": {
    "name": "ipython",
    "version": 3
   },
   "file_extension": ".py",
   "mimetype": "text/x-python",
   "name": "python",
   "nbconvert_exporter": "python",
   "pygments_lexer": "ipython3",
   "version": "3.10.9"
  },
  "orig_nbformat": 4
 },
 "nbformat": 4,
 "nbformat_minor": 2
}
