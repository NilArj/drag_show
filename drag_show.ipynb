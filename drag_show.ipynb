{
 "cells": [
  {
   "cell_type": "markdown",
   "metadata": {},
   "source": [
    "# Building a Predictive Model to Assess Contestant Success in the Competition\n",
    "\n",
    "<a id=\"table_of_contents\"></a>\n",
    "\n",
    "### Table of contents\n",
    "\n",
    "<ol>\n",
    "  <li><a href=\"#pre\">Data preprocessing</a>\n",
    "    <ul>\n",
    "      <li><a href='#dataset'>Import the data sets</a></li>\n",
    "      <li><a href='#new'>Create the new data set</a></li>\n",
    "      <li><a href='#cleaning'>Execute cleaning procedures</a></li>\n",
    "      <li><a href='#encode'>Encoding categorical data</a></li>\n",
    "      <li><a href='#split'> Splitting the dataset into the Training set and Test set</a></li>\n",
    "      <li><a href='#scaling'> Feature scaling</a></li>\n",
    "    </ul>\n",
    "  </li>\n",
    "\n",
    "  <li><a href=\"#models\">Models</a>\n",
    "    <ul>\n",
    "      <li><a href=\"#logistic\">Logistic Regression Model</a>\n",
    "      <li><a href=\"#random\">Random Forest Classification</a>\n",
    "      <li><a href=\"#tree\">Decision Tree Classification</a>   \n",
    "    </ul>\n",
    "  </li>\n",
    "  \n",
    "  </li>\n",
    "</ol>"
   ]
  },
  {
   "cell_type": "markdown",
   "metadata": {},
   "source": [
    "<a id=\"pre\"></a>\n",
    "## Data preprocessing\n",
    "<a href=\"#table_of_contents\">Navigate to contents</a>"
   ]
  },
  {
   "cell_type": "markdown",
   "metadata": {},
   "source": [
    "<a id=\"dataset\"></a>\n",
    "Examine the overall dataset\n",
    "<br>\n",
    "<a href=\"#table_of_contents\">Navigate to contents</a>"
   ]
  },
  {
   "cell_type": "code",
   "execution_count": 1,
   "metadata": {},
   "outputs": [],
   "source": [
    "import numpy as np\n",
    "import pandas as pd\n",
    "import mysql.connector\n",
    "import seaborn as sns\n",
    "import matplotlib.pyplot as plt"
   ]
  },
  {
   "cell_type": "code",
   "execution_count": 2,
   "metadata": {},
   "outputs": [],
   "source": [
    "#connect to mysql database\n",
    "conn = mysql.connector.connect(\n",
    "    host=\"localhost\",\n",
    "    user=\"root\",\n",
    "    password=\"NilArj_21\",\n",
    "    database=\"project\",\n",
    ")"
   ]
  },
  {
   "cell_type": "code",
   "execution_count": 3,
   "metadata": {},
   "outputs": [
    {
     "name": "stdout",
     "output_type": "stream",
     "text": [
      "  Lugar    Participante                       Nombre    Lugar de residencia  \\\n",
      "0     1      Alexis 3XL                 Itzel Moreno  Matamoros, Tamaulipas   \n",
      "1     2  Sophia Jiménez            Guillermo Jiménez      Guadalajara, Jal.   \n",
      "2     3        Gvajardo               Pablo Guajardo         Monterrey, NL.   \n",
      "3     4        Job Star  José Job Carrisalez Sánchez        Saltillo, Coah.   \n",
      "4     5      Soro Nasty                    Luis Soro        Monterrey, N.L.   \n",
      "\n",
      "   Edad       Selección  Retos ganados     Resultado  Temporada  \n",
      "0    28  Audiciones MTY              2      Ganadora          2  \n",
      "1    31  Audiciones GDL              3    Finalistas          2  \n",
      "2    29     Secretísima              1    Finalistas          2  \n",
      "3    34  Audiciones MTY              0  6ª eliminada          2  \n",
      "4    33    Pase directo              0  5ª eliminada          2  \n"
     ]
    },
    {
     "name": "stderr",
     "output_type": "stream",
     "text": [
      "C:\\Users\\nilvi\\AppData\\Local\\Temp\\ipykernel_13084\\344945470.py:2: UserWarning: pandas only supports SQLAlchemy connectable (engine/connection) or database string URI or sqlite3 DBAPI2 connection. Other DBAPI2 objects are not tested. Please consider using SQLAlchemy.\n",
      "  df_table_1 = pd.read_sql(\"SELECT * FROM la_mas_draga;\", conn)\n"
     ]
    }
   ],
   "source": [
    "# participants table\n",
    "df_table_1 = pd.read_sql(\"SELECT * FROM la_mas_draga;\", conn)\n",
    "\n",
    "print(df_table_1.head())"
   ]
  },
  {
   "cell_type": "code",
   "execution_count": 4,
   "metadata": {},
   "outputs": [
    {
     "name": "stdout",
     "output_type": "stream",
     "text": [
      "       Concursante  Episodio Nombre_de_episodio Progreso  Calificacion\n",
      "0  Aisha Dollkills         1          Artesanal    MENOS             7\n",
      "1  Aisha Dollkills         2            Juguete     SALV            14\n",
      "2  Aisha Dollkills         3            A Color     ELIM            12\n",
      "3  Aisha Dollkills         4          Recursiva    FUERA             0\n",
      "4  Aisha Dollkills         5             Famosa    FUERA            12\n"
     ]
    },
    {
     "name": "stderr",
     "output_type": "stream",
     "text": [
      "C:\\Users\\nilvi\\AppData\\Local\\Temp\\ipykernel_13084\\2370231956.py:2: UserWarning: pandas only supports SQLAlchemy connectable (engine/connection) or database string URI or sqlite3 DBAPI2 connection. Other DBAPI2 objects are not tested. Please consider using SQLAlchemy.\n",
      "  df_table_2 = pd.read_sql(\"SELECT * FROM la_mas_draga_scores;\", conn)\n"
     ]
    }
   ],
   "source": [
    "# progress table\n",
    "df_table_2 = pd.read_sql(\"SELECT * FROM la_mas_draga_scores;\", conn)\n",
    "\n",
    "print(df_table_2.head())"
   ]
  },
  {
   "cell_type": "code",
   "execution_count": 5,
   "metadata": {},
   "outputs": [],
   "source": [
    "#standardizing column names for data sets integration\n",
    "df_table_2 = df_table_2.rename(columns = {\"Concursante\" : \"Participante\"})"
   ]
  },
  {
   "cell_type": "code",
   "execution_count": 6,
   "metadata": {},
   "outputs": [],
   "source": [
    "merge_tables = pd.merge(df_table_1, df_table_2, on=\"Participante\", how=\"inner\")"
   ]
  },
  {
   "cell_type": "code",
   "execution_count": 7,
   "metadata": {},
   "outputs": [
    {
     "data": {
      "text/html": [
       "<div>\n",
       "<style scoped>\n",
       "    .dataframe tbody tr th:only-of-type {\n",
       "        vertical-align: middle;\n",
       "    }\n",
       "\n",
       "    .dataframe tbody tr th {\n",
       "        vertical-align: top;\n",
       "    }\n",
       "\n",
       "    .dataframe thead th {\n",
       "        text-align: right;\n",
       "    }\n",
       "</style>\n",
       "<table border=\"1\" class=\"dataframe\">\n",
       "  <thead>\n",
       "    <tr style=\"text-align: right;\">\n",
       "      <th></th>\n",
       "      <th>Lugar</th>\n",
       "      <th>Participante</th>\n",
       "      <th>Nombre</th>\n",
       "      <th>Lugar de residencia</th>\n",
       "      <th>Edad</th>\n",
       "      <th>Selección</th>\n",
       "      <th>Retos ganados</th>\n",
       "      <th>Resultado</th>\n",
       "      <th>Temporada</th>\n",
       "      <th>Episodio</th>\n",
       "      <th>Nombre_de_episodio</th>\n",
       "      <th>Progreso</th>\n",
       "      <th>Calificacion</th>\n",
       "    </tr>\n",
       "  </thead>\n",
       "  <tbody>\n",
       "    <tr>\n",
       "      <th>0</th>\n",
       "      <td>1</td>\n",
       "      <td>Alexis 3XL</td>\n",
       "      <td>Itzel Moreno</td>\n",
       "      <td>Matamoros, Tamaulipas</td>\n",
       "      <td>28</td>\n",
       "      <td>Audiciones MTY</td>\n",
       "      <td>2</td>\n",
       "      <td>Ganadora</td>\n",
       "      <td>2</td>\n",
       "      <td>1</td>\n",
       "      <td>Típica</td>\n",
       "      <td>ALTA MENOS</td>\n",
       "      <td>14</td>\n",
       "    </tr>\n",
       "    <tr>\n",
       "      <th>1</th>\n",
       "      <td>1</td>\n",
       "      <td>Alexis 3XL</td>\n",
       "      <td>Itzel Moreno</td>\n",
       "      <td>Matamoros, Tamaulipas</td>\n",
       "      <td>28</td>\n",
       "      <td>Audiciones MTY</td>\n",
       "      <td>2</td>\n",
       "      <td>Ganadora</td>\n",
       "      <td>2</td>\n",
       "      <td>2</td>\n",
       "      <td>Religiosa</td>\n",
       "      <td>ALTA</td>\n",
       "      <td>13</td>\n",
       "    </tr>\n",
       "    <tr>\n",
       "      <th>2</th>\n",
       "      <td>1</td>\n",
       "      <td>Alexis 3XL</td>\n",
       "      <td>Itzel Moreno</td>\n",
       "      <td>Matamoros, Tamaulipas</td>\n",
       "      <td>28</td>\n",
       "      <td>Audiciones MTY</td>\n",
       "      <td>2</td>\n",
       "      <td>Ganadora</td>\n",
       "      <td>2</td>\n",
       "      <td>3</td>\n",
       "      <td>Luchona</td>\n",
       "      <td>ALTA</td>\n",
       "      <td>18</td>\n",
       "    </tr>\n",
       "    <tr>\n",
       "      <th>3</th>\n",
       "      <td>1</td>\n",
       "      <td>Alexis 3XL</td>\n",
       "      <td>Itzel Moreno</td>\n",
       "      <td>Matamoros, Tamaulipas</td>\n",
       "      <td>28</td>\n",
       "      <td>Audiciones MTY</td>\n",
       "      <td>2</td>\n",
       "      <td>Ganadora</td>\n",
       "      <td>2</td>\n",
       "      <td>4</td>\n",
       "      <td>Piñata</td>\n",
       "      <td>LA MÁS</td>\n",
       "      <td>18</td>\n",
       "    </tr>\n",
       "    <tr>\n",
       "      <th>4</th>\n",
       "      <td>1</td>\n",
       "      <td>Alexis 3XL</td>\n",
       "      <td>Itzel Moreno</td>\n",
       "      <td>Matamoros, Tamaulipas</td>\n",
       "      <td>28</td>\n",
       "      <td>Audiciones MTY</td>\n",
       "      <td>2</td>\n",
       "      <td>Ganadora</td>\n",
       "      <td>2</td>\n",
       "      <td>5</td>\n",
       "      <td>Juanga</td>\n",
       "      <td>SALV</td>\n",
       "      <td>15</td>\n",
       "    </tr>\n",
       "  </tbody>\n",
       "</table>\n",
       "</div>"
      ],
      "text/plain": [
       "  Lugar Participante        Nombre    Lugar de residencia  Edad  \\\n",
       "0     1   Alexis 3XL  Itzel Moreno  Matamoros, Tamaulipas    28   \n",
       "1     1   Alexis 3XL  Itzel Moreno  Matamoros, Tamaulipas    28   \n",
       "2     1   Alexis 3XL  Itzel Moreno  Matamoros, Tamaulipas    28   \n",
       "3     1   Alexis 3XL  Itzel Moreno  Matamoros, Tamaulipas    28   \n",
       "4     1   Alexis 3XL  Itzel Moreno  Matamoros, Tamaulipas    28   \n",
       "\n",
       "        Selección  Retos ganados Resultado  Temporada  Episodio  \\\n",
       "0  Audiciones MTY              2  Ganadora          2         1   \n",
       "1  Audiciones MTY              2  Ganadora          2         2   \n",
       "2  Audiciones MTY              2  Ganadora          2         3   \n",
       "3  Audiciones MTY              2  Ganadora          2         4   \n",
       "4  Audiciones MTY              2  Ganadora          2         5   \n",
       "\n",
       "  Nombre_de_episodio    Progreso  Calificacion  \n",
       "0             Típica  ALTA MENOS            14  \n",
       "1          Religiosa        ALTA            13  \n",
       "2            Luchona        ALTA            18  \n",
       "3             Piñata      LA MÁS            18  \n",
       "4             Juanga        SALV            15  "
      ]
     },
     "execution_count": 7,
     "metadata": {},
     "output_type": "execute_result"
    }
   ],
   "source": [
    "merge_tables.head()"
   ]
  },
  {
   "cell_type": "code",
   "execution_count": 8,
   "metadata": {},
   "outputs": [],
   "source": [
    "df = pd.DataFrame(merge_tables)"
   ]
  },
  {
   "cell_type": "code",
   "execution_count": 42,
   "metadata": {},
   "outputs": [
    {
     "data": {
      "text/html": [
       "<div>\n",
       "<style scoped>\n",
       "    .dataframe tbody tr th:only-of-type {\n",
       "        vertical-align: middle;\n",
       "    }\n",
       "\n",
       "    .dataframe tbody tr th {\n",
       "        vertical-align: top;\n",
       "    }\n",
       "\n",
       "    .dataframe thead th {\n",
       "        text-align: right;\n",
       "    }\n",
       "</style>\n",
       "<table border=\"1\" class=\"dataframe\">\n",
       "  <thead>\n",
       "    <tr style=\"text-align: right;\">\n",
       "      <th></th>\n",
       "      <th>Lugar</th>\n",
       "      <th>Participante</th>\n",
       "      <th>Nombre</th>\n",
       "      <th>Lugar de residencia</th>\n",
       "      <th>Edad</th>\n",
       "      <th>Selección</th>\n",
       "      <th>Retos ganados</th>\n",
       "      <th>Resultado</th>\n",
       "      <th>Temporada</th>\n",
       "      <th>Episodio</th>\n",
       "      <th>Nombre_de_episodio</th>\n",
       "      <th>Progreso</th>\n",
       "      <th>Calificacion</th>\n",
       "    </tr>\n",
       "  </thead>\n",
       "  <tbody>\n",
       "    <tr>\n",
       "      <th>0</th>\n",
       "      <td>1</td>\n",
       "      <td>Alexis 3XL</td>\n",
       "      <td>Itzel Moreno</td>\n",
       "      <td>Matamoros, Tamaulipas</td>\n",
       "      <td>28</td>\n",
       "      <td>Audiciones MTY</td>\n",
       "      <td>2</td>\n",
       "      <td>Ganadora</td>\n",
       "      <td>2</td>\n",
       "      <td>1</td>\n",
       "      <td>Típica</td>\n",
       "      <td>MENOS</td>\n",
       "      <td>14</td>\n",
       "    </tr>\n",
       "    <tr>\n",
       "      <th>1</th>\n",
       "      <td>1</td>\n",
       "      <td>Alexis 3XL</td>\n",
       "      <td>Itzel Moreno</td>\n",
       "      <td>Matamoros, Tamaulipas</td>\n",
       "      <td>28</td>\n",
       "      <td>Audiciones MTY</td>\n",
       "      <td>2</td>\n",
       "      <td>Ganadora</td>\n",
       "      <td>2</td>\n",
       "      <td>2</td>\n",
       "      <td>Religiosa</td>\n",
       "      <td>ALTA</td>\n",
       "      <td>13</td>\n",
       "    </tr>\n",
       "    <tr>\n",
       "      <th>2</th>\n",
       "      <td>1</td>\n",
       "      <td>Alexis 3XL</td>\n",
       "      <td>Itzel Moreno</td>\n",
       "      <td>Matamoros, Tamaulipas</td>\n",
       "      <td>28</td>\n",
       "      <td>Audiciones MTY</td>\n",
       "      <td>2</td>\n",
       "      <td>Ganadora</td>\n",
       "      <td>2</td>\n",
       "      <td>3</td>\n",
       "      <td>Luchona</td>\n",
       "      <td>ALTA</td>\n",
       "      <td>18</td>\n",
       "    </tr>\n",
       "    <tr>\n",
       "      <th>3</th>\n",
       "      <td>1</td>\n",
       "      <td>Alexis 3XL</td>\n",
       "      <td>Itzel Moreno</td>\n",
       "      <td>Matamoros, Tamaulipas</td>\n",
       "      <td>28</td>\n",
       "      <td>Audiciones MTY</td>\n",
       "      <td>2</td>\n",
       "      <td>Ganadora</td>\n",
       "      <td>2</td>\n",
       "      <td>4</td>\n",
       "      <td>Piñata</td>\n",
       "      <td>LA MÁS</td>\n",
       "      <td>18</td>\n",
       "    </tr>\n",
       "    <tr>\n",
       "      <th>4</th>\n",
       "      <td>1</td>\n",
       "      <td>Alexis 3XL</td>\n",
       "      <td>Itzel Moreno</td>\n",
       "      <td>Matamoros, Tamaulipas</td>\n",
       "      <td>28</td>\n",
       "      <td>Audiciones MTY</td>\n",
       "      <td>2</td>\n",
       "      <td>Ganadora</td>\n",
       "      <td>2</td>\n",
       "      <td>5</td>\n",
       "      <td>Juanga</td>\n",
       "      <td>SALV</td>\n",
       "      <td>15</td>\n",
       "    </tr>\n",
       "  </tbody>\n",
       "</table>\n",
       "</div>"
      ],
      "text/plain": [
       "  Lugar Participante        Nombre    Lugar de residencia  Edad  \\\n",
       "0     1   Alexis 3XL  Itzel Moreno  Matamoros, Tamaulipas    28   \n",
       "1     1   Alexis 3XL  Itzel Moreno  Matamoros, Tamaulipas    28   \n",
       "2     1   Alexis 3XL  Itzel Moreno  Matamoros, Tamaulipas    28   \n",
       "3     1   Alexis 3XL  Itzel Moreno  Matamoros, Tamaulipas    28   \n",
       "4     1   Alexis 3XL  Itzel Moreno  Matamoros, Tamaulipas    28   \n",
       "\n",
       "        Selección  Retos ganados Resultado  Temporada  Episodio  \\\n",
       "0  Audiciones MTY              2  Ganadora          2         1   \n",
       "1  Audiciones MTY              2  Ganadora          2         2   \n",
       "2  Audiciones MTY              2  Ganadora          2         3   \n",
       "3  Audiciones MTY              2  Ganadora          2         4   \n",
       "4  Audiciones MTY              2  Ganadora          2         5   \n",
       "\n",
       "  Nombre_de_episodio Progreso  Calificacion  \n",
       "0             Típica    MENOS            14  \n",
       "1          Religiosa     ALTA            13  \n",
       "2            Luchona     ALTA            18  \n",
       "3             Piñata   LA MÁS            18  \n",
       "4             Juanga     SALV            15  "
      ]
     },
     "execution_count": 42,
     "metadata": {},
     "output_type": "execute_result"
    }
   ],
   "source": [
    "df.head()"
   ]
  },
  {
   "cell_type": "markdown",
   "metadata": {},
   "source": [
    "<a id=\"cleaning\"></a>\n",
    "Execute cleaning procedures\n",
    "<br>\n",
    "<a href=\"#table_of_contents\">Navigate to contents</a>"
   ]
  },
  {
   "cell_type": "code",
   "execution_count": 9,
   "metadata": {},
   "outputs": [
    {
     "data": {
      "text/plain": [
       "array(['Ganadora', 'Finalistas', '6ª eliminada', '5ª eliminada',\n",
       "       '3ª eliminadas', '2ª eliminada', 'Ganadora[11]\\u200b',\n",
       "       '8ª/9ª eliminada', '7ª eliminada', '4ª eliminada', '3ª eliminada',\n",
       "       '1ª eliminada', 'Finalista', '9ª/10ª eliminada', '8ª eliminada',\n",
       "       '6ª/7ª eliminada', '4° eliminado', 'Finalista secreta', 'Abandona',\n",
       "       '6ª Eliminada', '5ª Eliminada', '4ª Eliminada', '3ª Eliminada',\n",
       "       '2ª Eliminada', '1ª Eliminada'], dtype=object)"
      ]
     },
     "execution_count": 9,
     "metadata": {},
     "output_type": "execute_result"
    }
   ],
   "source": [
    "df[\"Resultado\"].unique()"
   ]
  },
  {
   "cell_type": "code",
   "execution_count": 10,
   "metadata": {},
   "outputs": [
    {
     "name": "stderr",
     "output_type": "stream",
     "text": [
      "C:\\Users\\nilvi\\AppData\\Local\\Temp\\ipykernel_13084\\2839179131.py:2: FutureWarning: The default value of regex will change from True to False in a future version.\n",
      "  df[\"Resultado\"] =df[\"Resultado\"].str.replace(r'[\\d\\[ªº\\u200b/°]|\\[1-9]\\d?\\d? al 16|secreta\\b', '')\n"
     ]
    }
   ],
   "source": [
    "df[\"Resultado\"] =df[\"Resultado\"].str.replace('/', '')\n",
    "df[\"Resultado\"] =df[\"Resultado\"].str.replace(r'[\\d\\[ªº\\u200b/°]|\\[1-9]\\d?\\d? al 16|secreta\\b', '')"
   ]
  },
  {
   "cell_type": "code",
   "execution_count": 11,
   "metadata": {},
   "outputs": [
    {
     "data": {
      "text/plain": [
       "array(['Ganadora', 'Finalistas', ' eliminada', ' eliminadas', 'Ganadora]',\n",
       "       'Finalista', ' eliminado', 'Finalista ', 'Abandona', ' Eliminada'],\n",
       "      dtype=object)"
      ]
     },
     "execution_count": 11,
     "metadata": {},
     "output_type": "execute_result"
    }
   ],
   "source": [
    "df[\"Resultado\"].unique()"
   ]
  },
  {
   "cell_type": "code",
   "execution_count": 12,
   "metadata": {},
   "outputs": [],
   "source": [
    "result_dict = {'eliminada' :'Eliminada','eliminadas' :'Eliminada','eliminado':'Eliminada','Finalistas': 'Finalista', 'Ganadora]':'Ganadora', 'Abandona' :'Eliminada'}\n",
    "df[\"Resultado\"] = df[\"Resultado\"].str.strip().replace(result_dict)"
   ]
  },
  {
   "cell_type": "code",
   "execution_count": 13,
   "metadata": {},
   "outputs": [
    {
     "data": {
      "text/plain": [
       "array(['Ganadora', 'Finalista', 'Eliminada'], dtype=object)"
      ]
     },
     "execution_count": 13,
     "metadata": {},
     "output_type": "execute_result"
    }
   ],
   "source": [
    "df[\"Resultado\"].unique()"
   ]
  },
  {
   "cell_type": "code",
   "execution_count": 14,
   "metadata": {},
   "outputs": [
    {
     "data": {
      "text/plain": [
       "array(['ALTA MENOS', 'ALTA', 'LA MÁS', 'SALV', 'MENOS', 'Compitiendo',\n",
       "       'Ganadora', 'BAJA', 'Finalista', 'MENOS BAJA', 'ELIM', 'Invitada',\n",
       "       'FUERA', 'BAJAS', 'LAS MÁS', 'ALTO', 'EL MÁS', 'BAJO', 'Invitado',\n",
       "       'ALTA EG', 'SALV MENOS', 'ENTRA', 'GANA', 'VUELVE', 'ABAND',\n",
       "       'MENOS SALV', 'ABDICÓ', 'ALTAS', 'Invitadas'], dtype=object)"
      ]
     },
     "execution_count": 14,
     "metadata": {},
     "output_type": "execute_result"
    }
   ],
   "source": [
    "df[\"Progreso\"].unique()"
   ]
  },
  {
   "cell_type": "code",
   "execution_count": 15,
   "metadata": {},
   "outputs": [],
   "source": [
    "progress_dict = {'BAJAS':'BAJA','LAS MÁS':'LA MÁS','EL MÁS':'LA MÁS','BAJO':'BAJA','Invitado':'Invitada', 'ALTAS':'ALTA','ALTO':'ALTA' ,'Invitadas':'Invitada', 'ALTA MENOS':'MENOS', 'MENOS BAJA':'BAJA', 'ALTA EG':'ALTA','SALV MENOS':'MENOS','MENOS SALV':'SALV'}\n",
    "df[\"Progreso\"] = df[\"Progreso\"].str.strip().replace(progress_dict)"
   ]
  },
  {
   "cell_type": "code",
   "execution_count": 16,
   "metadata": {},
   "outputs": [
    {
     "data": {
      "text/plain": [
       "array(['MENOS', 'ALTA', 'LA MÁS', 'SALV', 'Compitiendo', 'Ganadora',\n",
       "       'BAJA', 'Finalista', 'ELIM', 'Invitada', 'FUERA', 'ENTRA', 'GANA',\n",
       "       'VUELVE', 'ABAND', 'ABDICÓ'], dtype=object)"
      ]
     },
     "execution_count": 16,
     "metadata": {},
     "output_type": "execute_result"
    }
   ],
   "source": [
    "df[\"Progreso\"].unique()"
   ]
  },
  {
   "cell_type": "code",
   "execution_count": 17,
   "metadata": {},
   "outputs": [],
   "source": [
    "#separate the dependent and independant variables\n",
    "X = df[[\"Edad\", \"Retos ganados\", \"Temporada\", \"Episodio\", \"Calificacion\", \"Progreso\" ]]\n",
    "y = df[[\"Resultado\"]]"
   ]
  },
  {
   "cell_type": "code",
   "execution_count": 18,
   "metadata": {},
   "outputs": [
    {
     "name": "stdout",
     "output_type": "stream",
     "text": [
      "<class 'pandas.core.frame.DataFrame'>\n",
      "Int64Index: 493 entries, 0 to 492\n",
      "Data columns (total 6 columns):\n",
      " #   Column         Non-Null Count  Dtype \n",
      "---  ------         --------------  ----- \n",
      " 0   Edad           493 non-null    int64 \n",
      " 1   Retos ganados  493 non-null    int64 \n",
      " 2   Temporada      493 non-null    int64 \n",
      " 3   Episodio       493 non-null    int64 \n",
      " 4   Calificacion   493 non-null    int64 \n",
      " 5   Progreso       493 non-null    object\n",
      "dtypes: int64(5), object(1)\n",
      "memory usage: 27.0+ KB\n"
     ]
    }
   ],
   "source": [
    "X.info()"
   ]
  },
  {
   "cell_type": "code",
   "execution_count": 19,
   "metadata": {},
   "outputs": [
    {
     "data": {
      "text/html": [
       "<div>\n",
       "<style scoped>\n",
       "    .dataframe tbody tr th:only-of-type {\n",
       "        vertical-align: middle;\n",
       "    }\n",
       "\n",
       "    .dataframe tbody tr th {\n",
       "        vertical-align: top;\n",
       "    }\n",
       "\n",
       "    .dataframe thead th {\n",
       "        text-align: right;\n",
       "    }\n",
       "</style>\n",
       "<table border=\"1\" class=\"dataframe\">\n",
       "  <thead>\n",
       "    <tr style=\"text-align: right;\">\n",
       "      <th></th>\n",
       "      <th>Edad</th>\n",
       "      <th>Retos ganados</th>\n",
       "      <th>Temporada</th>\n",
       "      <th>Episodio</th>\n",
       "      <th>Calificacion</th>\n",
       "      <th>Progreso</th>\n",
       "    </tr>\n",
       "  </thead>\n",
       "  <tbody>\n",
       "    <tr>\n",
       "      <th>0</th>\n",
       "      <td>28</td>\n",
       "      <td>2</td>\n",
       "      <td>2</td>\n",
       "      <td>1</td>\n",
       "      <td>14</td>\n",
       "      <td>MENOS</td>\n",
       "    </tr>\n",
       "    <tr>\n",
       "      <th>1</th>\n",
       "      <td>28</td>\n",
       "      <td>2</td>\n",
       "      <td>2</td>\n",
       "      <td>2</td>\n",
       "      <td>13</td>\n",
       "      <td>ALTA</td>\n",
       "    </tr>\n",
       "    <tr>\n",
       "      <th>2</th>\n",
       "      <td>28</td>\n",
       "      <td>2</td>\n",
       "      <td>2</td>\n",
       "      <td>3</td>\n",
       "      <td>18</td>\n",
       "      <td>ALTA</td>\n",
       "    </tr>\n",
       "    <tr>\n",
       "      <th>3</th>\n",
       "      <td>28</td>\n",
       "      <td>2</td>\n",
       "      <td>2</td>\n",
       "      <td>4</td>\n",
       "      <td>18</td>\n",
       "      <td>LA MÁS</td>\n",
       "    </tr>\n",
       "    <tr>\n",
       "      <th>4</th>\n",
       "      <td>28</td>\n",
       "      <td>2</td>\n",
       "      <td>2</td>\n",
       "      <td>5</td>\n",
       "      <td>15</td>\n",
       "      <td>SALV</td>\n",
       "    </tr>\n",
       "  </tbody>\n",
       "</table>\n",
       "</div>"
      ],
      "text/plain": [
       "   Edad  Retos ganados  Temporada  Episodio  Calificacion Progreso\n",
       "0    28              2          2         1            14    MENOS\n",
       "1    28              2          2         2            13     ALTA\n",
       "2    28              2          2         3            18     ALTA\n",
       "3    28              2          2         4            18   LA MÁS\n",
       "4    28              2          2         5            15     SALV"
      ]
     },
     "execution_count": 19,
     "metadata": {},
     "output_type": "execute_result"
    }
   ],
   "source": [
    "X.head()"
   ]
  },
  {
   "cell_type": "code",
   "execution_count": 20,
   "metadata": {},
   "outputs": [
    {
     "name": "stdout",
     "output_type": "stream",
     "text": [
      "<class 'pandas.core.frame.DataFrame'>\n",
      "Int64Index: 493 entries, 0 to 492\n",
      "Data columns (total 1 columns):\n",
      " #   Column     Non-Null Count  Dtype \n",
      "---  ------     --------------  ----- \n",
      " 0   Resultado  493 non-null    object\n",
      "dtypes: object(1)\n",
      "memory usage: 7.7+ KB\n"
     ]
    }
   ],
   "source": [
    "y.info()"
   ]
  },
  {
   "cell_type": "markdown",
   "metadata": {},
   "source": [
    "<a id=\"encode\"></a>\n",
    "Encoding categorical data\n",
    "<br>\n",
    "<a href=\"#table_of_contents\">Navigate to contents</a>"
   ]
  },
  {
   "cell_type": "code",
   "execution_count": 21,
   "metadata": {},
   "outputs": [],
   "source": [
    "from sklearn.compose import ColumnTransformer\n",
    "from sklearn.preprocessing import OneHotEncoder\n",
    "ct = ColumnTransformer(transformers=[('encoder', OneHotEncoder(), ['Progreso'])], remainder='passthrough')\n",
    "X = ct.fit_transform(X)"
   ]
  },
  {
   "cell_type": "code",
   "execution_count": 22,
   "metadata": {},
   "outputs": [
    {
     "name": "stdout",
     "output_type": "stream",
     "text": [
      "  (0, 13)\t1.0\n",
      "  (0, 16)\t28.0\n",
      "  (0, 17)\t2.0\n",
      "  (0, 18)\t2.0\n",
      "  (0, 19)\t1.0\n",
      "  (0, 20)\t14.0\n",
      "  (1, 2)\t1.0\n",
      "  (1, 16)\t28.0\n",
      "  (1, 17)\t2.0\n",
      "  (1, 18)\t2.0\n",
      "  (1, 19)\t2.0\n",
      "  (1, 20)\t13.0\n",
      "  (2, 2)\t1.0\n",
      "  (2, 16)\t28.0\n",
      "  (2, 17)\t2.0\n",
      "  (2, 18)\t2.0\n",
      "  (2, 19)\t3.0\n",
      "  (2, 20)\t18.0\n",
      "  (3, 12)\t1.0\n",
      "  (3, 16)\t28.0\n",
      "  (3, 17)\t2.0\n",
      "  (3, 18)\t2.0\n",
      "  (3, 19)\t4.0\n",
      "  (3, 20)\t18.0\n",
      "  (4, 14)\t1.0\n",
      "  :\t:\n",
      "  (486, 19)\t4.0\n",
      "  (487, 7)\t1.0\n",
      "  (487, 16)\t24.0\n",
      "  (487, 18)\t5.0\n",
      "  (487, 19)\t5.0\n",
      "  (488, 11)\t1.0\n",
      "  (488, 16)\t24.0\n",
      "  (488, 18)\t5.0\n",
      "  (488, 19)\t6.0\n",
      "  (489, 7)\t1.0\n",
      "  (489, 16)\t24.0\n",
      "  (489, 18)\t5.0\n",
      "  (489, 19)\t7.0\n",
      "  (490, 7)\t1.0\n",
      "  (490, 16)\t24.0\n",
      "  (490, 18)\t5.0\n",
      "  (490, 19)\t8.0\n",
      "  (491, 7)\t1.0\n",
      "  (491, 16)\t24.0\n",
      "  (491, 18)\t5.0\n",
      "  (491, 19)\t9.0\n",
      "  (492, 7)\t1.0\n",
      "  (492, 16)\t24.0\n",
      "  (492, 18)\t5.0\n",
      "  (492, 19)\t10.0\n"
     ]
    }
   ],
   "source": [
    "print(X)"
   ]
  },
  {
   "cell_type": "code",
   "execution_count": 23,
   "metadata": {},
   "outputs": [
    {
     "name": "stdout",
     "output_type": "stream",
     "text": [
      "[[ 0.  0.  0. ...  2.  1. 14.]\n",
      " [ 0.  0.  1. ...  2.  2. 13.]\n",
      " [ 0.  0.  1. ...  2.  3. 18.]\n",
      " ...\n",
      " [ 0.  0.  0. ...  5.  8.  0.]\n",
      " [ 0.  0.  0. ...  5.  9.  0.]\n",
      " [ 0.  0.  0. ...  5. 10.  0.]]\n"
     ]
    }
   ],
   "source": [
    "X = X.toarray()\n",
    "print(X)"
   ]
  },
  {
   "cell_type": "code",
   "execution_count": 24,
   "metadata": {},
   "outputs": [
    {
     "name": "stderr",
     "output_type": "stream",
     "text": [
      "c:\\Users\\nilvi\\anaconda3\\lib\\site-packages\\sklearn\\preprocessing\\_label.py:116: DataConversionWarning: A column-vector y was passed when a 1d array was expected. Please change the shape of y to (n_samples, ), for example using ravel().\n",
      "  y = column_or_1d(y, warn=True)\n"
     ]
    }
   ],
   "source": [
    "from sklearn.preprocessing import LabelEncoder\n",
    "le = LabelEncoder()\n",
    "y = le.fit_transform(y)"
   ]
  },
  {
   "cell_type": "code",
   "execution_count": 25,
   "metadata": {},
   "outputs": [
    {
     "name": "stdout",
     "output_type": "stream",
     "text": [
      "[2 2 2 2 2 2 2 2 2 1 1 1 1 1 1 1 1 1 0 0 0 0 0 0 0 0 0 0 0 0 0 0 0 0 0 0 0\n",
      " 0 0 0 0 0 0 0 0 0 0 0 0 0 0 0 0 0 0 0 0 0 0 0 0 0 0 2 2 2 2 2 2 2 2 2 2 1\n",
      " 1 1 1 1 1 1 1 1 1 1 1 1 1 1 1 1 1 1 1 0 0 0 0 0 0 0 0 0 0 0 0 0 0 0 0 0 0\n",
      " 0 0 0 0 0 0 0 0 0 0 0 0 0 0 0 0 0 0 0 0 0 0 0 0 0 0 0 0 0 0 0 0 0 0 0 0 0\n",
      " 0 0 0 0 0 0 0 0 0 0 0 0 0 0 0 0 0 0 0 0 0 0 0 0 0 0 0 0 0 0 0 0 0 0 0 2 2\n",
      " 2 2 2 2 2 2 2 2 1 1 1 1 1 1 1 1 1 1 1 1 1 1 1 1 1 1 1 1 1 1 1 1 1 1 1 1 1\n",
      " 1 0 0 0 0 0 0 0 0 0 0 0 0 0 0 0 0 0 0 0 0 0 0 0 0 0 0 0 0 0 0 0 0 0 0 0 0\n",
      " 0 0 0 0 0 0 0 0 0 0 0 0 0 0 0 0 0 0 0 0 0 0 0 0 0 0 0 0 0 0 0 0 0 0 0 0 0\n",
      " 0 0 0 0 0 0 0 0 0 0 0 0 0 0 0 0 0 0 0 0 0 0 0 0 0 0 0 1 1 1 1 1 1 1 1 1 1\n",
      " 1 1 1 1 1 1 1 1 1 1 1 1 1 1 1 1 1 1 1 1 1 1 1 1 1 1 1 1 1 1 0 0 0 0 0 0 0\n",
      " 0 0 0 0 0 0 0 0 0 0 0 0 0 2 2 2 2 2 2 2 2 2 2 1 1 1 1 1 1 1 1 1 1 1 1 1 1\n",
      " 1 1 1 1 1 1 0 0 0 0 0 0 0 0 0 0 0 0 0 0 0 0 0 0 0 0 0 0 0 0 0 0 0 0 0 0 0\n",
      " 0 0 0 0 0 0 0 0 0 0 0 0 0 0 0 0 0 0 0 0 0 0 0 0 0 0 0 0 0 0 0 0 0 0 0 0 0\n",
      " 0 0 0 0 0 0 0 0 0 0 0 0]\n"
     ]
    }
   ],
   "source": [
    "print(y)"
   ]
  },
  {
   "cell_type": "markdown",
   "metadata": {},
   "source": [
    "<a id=\"split\"></a>\n",
    "Splitting the dataset into the Training set and Test set\n",
    "<br>\n",
    "<a href=\"#table_of_contents\">Navigate to contents</a>"
   ]
  },
  {
   "cell_type": "code",
   "execution_count": 26,
   "metadata": {},
   "outputs": [],
   "source": [
    "from sklearn.model_selection import train_test_split\n",
    "X_train, X_test, y_train, y_test = train_test_split(X, y, test_size = 0.25, random_state= 1 )"
   ]
  },
  {
   "cell_type": "code",
   "execution_count": 27,
   "metadata": {},
   "outputs": [
    {
     "data": {
      "text/plain": [
       "(369, 21)"
      ]
     },
     "execution_count": 27,
     "metadata": {},
     "output_type": "execute_result"
    }
   ],
   "source": [
    "X_train.shape"
   ]
  },
  {
   "cell_type": "code",
   "execution_count": 28,
   "metadata": {},
   "outputs": [
    {
     "data": {
      "text/plain": [
       "(124, 21)"
      ]
     },
     "execution_count": 28,
     "metadata": {},
     "output_type": "execute_result"
    }
   ],
   "source": [
    "X_test.shape"
   ]
  },
  {
   "cell_type": "markdown",
   "metadata": {},
   "source": [
    "<a id=\"scaling\"></a>\n",
    "Feature scaling\n",
    "<br>\n",
    "<a href=\"#table_of_contents\">Navigate to contents</a>"
   ]
  },
  {
   "cell_type": "code",
   "execution_count": 29,
   "metadata": {},
   "outputs": [],
   "source": [
    "from sklearn.preprocessing import StandardScaler\n",
    "sc = StandardScaler()\n",
    "X_train = sc.fit_transform(X_train)\n",
    "X_test = sc.transform(X_test)"
   ]
  },
  {
   "cell_type": "markdown",
   "metadata": {},
   "source": [
    "<a id=\"pre\"></a>\n",
    "## Models\n",
    "<a href=\"#table_of_contents\">Navigate to contents</a>"
   ]
  },
  {
   "cell_type": "markdown",
   "metadata": {},
   "source": [
    "<a id=\"logistic\"></a>\n",
    "Logistic Regression Model\n",
    "<br>\n",
    "<a href=\"#table_of_contents\">Navigate to contents</a>"
   ]
  },
  {
   "cell_type": "code",
   "execution_count": 30,
   "metadata": {},
   "outputs": [
    {
     "data": {
      "text/html": [
       "<style>#sk-container-id-1 {color: black;background-color: white;}#sk-container-id-1 pre{padding: 0;}#sk-container-id-1 div.sk-toggleable {background-color: white;}#sk-container-id-1 label.sk-toggleable__label {cursor: pointer;display: block;width: 100%;margin-bottom: 0;padding: 0.3em;box-sizing: border-box;text-align: center;}#sk-container-id-1 label.sk-toggleable__label-arrow:before {content: \"▸\";float: left;margin-right: 0.25em;color: #696969;}#sk-container-id-1 label.sk-toggleable__label-arrow:hover:before {color: black;}#sk-container-id-1 div.sk-estimator:hover label.sk-toggleable__label-arrow:before {color: black;}#sk-container-id-1 div.sk-toggleable__content {max-height: 0;max-width: 0;overflow: hidden;text-align: left;background-color: #f0f8ff;}#sk-container-id-1 div.sk-toggleable__content pre {margin: 0.2em;color: black;border-radius: 0.25em;background-color: #f0f8ff;}#sk-container-id-1 input.sk-toggleable__control:checked~div.sk-toggleable__content {max-height: 200px;max-width: 100%;overflow: auto;}#sk-container-id-1 input.sk-toggleable__control:checked~label.sk-toggleable__label-arrow:before {content: \"▾\";}#sk-container-id-1 div.sk-estimator input.sk-toggleable__control:checked~label.sk-toggleable__label {background-color: #d4ebff;}#sk-container-id-1 div.sk-label input.sk-toggleable__control:checked~label.sk-toggleable__label {background-color: #d4ebff;}#sk-container-id-1 input.sk-hidden--visually {border: 0;clip: rect(1px 1px 1px 1px);clip: rect(1px, 1px, 1px, 1px);height: 1px;margin: -1px;overflow: hidden;padding: 0;position: absolute;width: 1px;}#sk-container-id-1 div.sk-estimator {font-family: monospace;background-color: #f0f8ff;border: 1px dotted black;border-radius: 0.25em;box-sizing: border-box;margin-bottom: 0.5em;}#sk-container-id-1 div.sk-estimator:hover {background-color: #d4ebff;}#sk-container-id-1 div.sk-parallel-item::after {content: \"\";width: 100%;border-bottom: 1px solid gray;flex-grow: 1;}#sk-container-id-1 div.sk-label:hover label.sk-toggleable__label {background-color: #d4ebff;}#sk-container-id-1 div.sk-serial::before {content: \"\";position: absolute;border-left: 1px solid gray;box-sizing: border-box;top: 0;bottom: 0;left: 50%;z-index: 0;}#sk-container-id-1 div.sk-serial {display: flex;flex-direction: column;align-items: center;background-color: white;padding-right: 0.2em;padding-left: 0.2em;position: relative;}#sk-container-id-1 div.sk-item {position: relative;z-index: 1;}#sk-container-id-1 div.sk-parallel {display: flex;align-items: stretch;justify-content: center;background-color: white;position: relative;}#sk-container-id-1 div.sk-item::before, #sk-container-id-1 div.sk-parallel-item::before {content: \"\";position: absolute;border-left: 1px solid gray;box-sizing: border-box;top: 0;bottom: 0;left: 50%;z-index: -1;}#sk-container-id-1 div.sk-parallel-item {display: flex;flex-direction: column;z-index: 1;position: relative;background-color: white;}#sk-container-id-1 div.sk-parallel-item:first-child::after {align-self: flex-end;width: 50%;}#sk-container-id-1 div.sk-parallel-item:last-child::after {align-self: flex-start;width: 50%;}#sk-container-id-1 div.sk-parallel-item:only-child::after {width: 0;}#sk-container-id-1 div.sk-dashed-wrapped {border: 1px dashed gray;margin: 0 0.4em 0.5em 0.4em;box-sizing: border-box;padding-bottom: 0.4em;background-color: white;}#sk-container-id-1 div.sk-label label {font-family: monospace;font-weight: bold;display: inline-block;line-height: 1.2em;}#sk-container-id-1 div.sk-label-container {text-align: center;}#sk-container-id-1 div.sk-container {/* jupyter's `normalize.less` sets `[hidden] { display: none; }` but bootstrap.min.css set `[hidden] { display: none !important; }` so we also need the `!important` here to be able to override the default hidden behavior on the sphinx rendered scikit-learn.org. See: https://github.com/scikit-learn/scikit-learn/issues/21755 */display: inline-block !important;position: relative;}#sk-container-id-1 div.sk-text-repr-fallback {display: none;}</style><div id=\"sk-container-id-1\" class=\"sk-top-container\"><div class=\"sk-text-repr-fallback\"><pre>LogisticRegression(random_state=0)</pre><b>In a Jupyter environment, please rerun this cell to show the HTML representation or trust the notebook. <br />On GitHub, the HTML representation is unable to render, please try loading this page with nbviewer.org.</b></div><div class=\"sk-container\" hidden><div class=\"sk-item\"><div class=\"sk-estimator sk-toggleable\"><input class=\"sk-toggleable__control sk-hidden--visually\" id=\"sk-estimator-id-1\" type=\"checkbox\" checked><label for=\"sk-estimator-id-1\" class=\"sk-toggleable__label sk-toggleable__label-arrow\">LogisticRegression</label><div class=\"sk-toggleable__content\"><pre>LogisticRegression(random_state=0)</pre></div></div></div></div></div>"
      ],
      "text/plain": [
       "LogisticRegression(random_state=0)"
      ]
     },
     "execution_count": 30,
     "metadata": {},
     "output_type": "execute_result"
    }
   ],
   "source": [
    "#train the logistic regression model on the training data\n",
    "from sklearn.linear_model import LogisticRegression\n",
    "classifier = LogisticRegression(random_state = 0)\n",
    "classifier.fit(X_train, y_train)"
   ]
  },
  {
   "cell_type": "code",
   "execution_count": 31,
   "metadata": {},
   "outputs": [],
   "source": [
    "#predicting the Test set results\n",
    "y_lrm_pred = classifier.predict(X_test)"
   ]
  },
  {
   "cell_type": "code",
   "execution_count": 69,
   "metadata": {},
   "outputs": [
    {
     "data": {
      "text/plain": [
       "0.7661290322580645"
      ]
     },
     "execution_count": 69,
     "metadata": {},
     "output_type": "execute_result"
    }
   ],
   "source": [
    "#check accurancy score\n",
    "from sklearn.metrics import accuracy_score\n",
    "ac_sc = accuracy_score(y_test, y_lrm_pred)\n",
    "print(ac_sc)"
   ]
  },
  {
   "cell_type": "code",
   "execution_count": 33,
   "metadata": {},
   "outputs": [
    {
     "data": {
      "text/plain": [
       "array([[78,  6,  0],\n",
       "       [12, 17,  0],\n",
       "       [ 5,  6,  0]], dtype=int64)"
      ]
     },
     "execution_count": 33,
     "metadata": {},
     "output_type": "execute_result"
    }
   ],
   "source": [
    "#examining errors and mislabeling in the confusion matrix\n",
    "from sklearn.metrics import confusion_matrix\n",
    "cm = confusion_matrix(y_test, y_lrm_pred)\n",
    "print(cm)"
   ]
  },
  {
   "cell_type": "code",
   "execution_count": 63,
   "metadata": {},
   "outputs": [
    {
     "data": {
      "image/png": "[encoded data removed]",
      "text/plain": [
       "<Figure size 500x400 with 2 Axes>"
      ]
     },
     "metadata": {},
     "output_type": "display_data"
    }
   ],
   "source": [
    "def plot_confusion_matrix (y_true, y_pred, classes):\n",
    "    cm = confusion_matrix(y_true, y_pred)\n",
    "    plt.figure(figsize=(5,4))\n",
    "    sns.heatmap(cm, annot=True, cmap=\"Blues\", fmt='d' , xticklabels=classes, yticklabels=classes)\n",
    "    plt.xlabel(\"Predicted\")\n",
    "    plt.ylabel(\"True\")\n",
    "    plt.show()\n",
    "\n",
    "class_names = \"Eliminated\", \"Finalist\", \"Winner\"\n",
    "plot_confusion_matrix(y_test, y_lrm_pred, class_names)"
   ]
  },
  {
   "cell_type": "code",
   "execution_count": 65,
   "metadata": {},
   "outputs": [
    {
     "name": "stdout",
     "output_type": "stream",
     "text": [
      "              precision    recall  f1-score   support\n",
      "\n",
      "           0       0.82      0.93      0.87        84\n",
      "           1       0.59      0.59      0.59        29\n",
      "           2       0.00      0.00      0.00        11\n",
      "\n",
      "    accuracy                           0.77       124\n",
      "   macro avg       0.47      0.50      0.49       124\n",
      "weighted avg       0.69      0.77      0.73       124\n",
      "\n"
     ]
    }
   ],
   "source": [
    "from sklearn.metrics import classification_report\n",
    "print(classification_report(y_test,y_lrm_pred, zero_division=0))"
   ]
  },
  {
   "cell_type": "code",
   "execution_count": 68,
   "metadata": {},
   "outputs": [
    {
     "name": "stdout",
     "output_type": "stream",
     "text": [
      "              precision    recall  f1-score     support\n",
      "0              0.821053  0.928571  0.871508   84.000000\n",
      "1              0.586207  0.586207  0.586207   29.000000\n",
      "2              0.000000  0.000000  0.000000   11.000000\n",
      "accuracy       0.766129  0.766129  0.766129    0.766129\n",
      "macro avg      0.469087  0.504926  0.485905  124.000000\n",
      "weighted avg   0.693294  0.766129  0.727473  124.000000\n"
     ]
    }
   ],
   "source": [
    "report_1 = classification_report(y_test,y_lrm_pred, output_dict=True, zero_division=0)\n",
    "lrm_report = pd.DataFrame(report_1).transpose()\n",
    "print(lrm_report)"
   ]
  },
  {
   "cell_type": "markdown",
   "metadata": {},
   "source": [
    "<a id=\"random\"></a>\n",
    "Random Forest Classification\n",
    "<br>\n",
    "<a href=\"#table_of_contents\">Navigate to contents</a>"
   ]
  },
  {
   "cell_type": "markdown",
   "metadata": {},
   "source": [
    "<a id=\"tree\"></a>\n",
    "Decision Tree Classification\n",
    "<br>\n",
    "<a href=\"#table_of_contents\">Navigate to contents</a>"
   ]
  }
 ],
 "metadata": {
  "kernelspec": {
   "display_name": "base",
   "language": "python",
   "name": "python3"
  },
  "language_info": {
   "codemirror_mode": {
    "name": "ipython",
    "version": 3
   },
   "file_extension": ".py",
   "mimetype": "text/x-python",
   "name": "python",
   "nbconvert_exporter": "python",
   "pygments_lexer": "ipython3",
   "version": "3.10.9"
  },
  "orig_nbformat": 4
 },
 "nbformat": 4,
 "nbformat_minor": 2
}
